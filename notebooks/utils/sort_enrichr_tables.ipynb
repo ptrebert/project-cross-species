{
 "cells": [
  {
   "cell_type": "code",
   "execution_count": 11,
   "metadata": {},
   "outputs": [
    {
     "name": "stdout",
     "output_type": "stream",
     "text": [
      "Dumped  /TL/deep-external01/nobackup/pebert/cloudshare/mpiinf/phd/chapter_projects/crossspecies/supplement/supp_tables/Add-file-6_enrichR_mouse_unaln-genes_GO-BP.tsv\n",
      "Dumped  /TL/deep-external01/nobackup/pebert/cloudshare/mpiinf/phd/chapter_projects/crossspecies/supplement/supp_tables/Add-file-6_enrichR_mouse_unaln-genes_GO-MF.tsv\n",
      "Dumped  /TL/deep-external01/nobackup/pebert/cloudshare/mpiinf/phd/chapter_projects/crossspecies/supplement/supp_tables/Add-file-6_enrichR_human_unaln-genes_GO-MF.tsv\n",
      "Dumped  /TL/deep-external01/nobackup/pebert/cloudshare/mpiinf/phd/chapter_projects/crossspecies/supplement/supp_tables/Add-file-6_enrichR_human_unaln-genes_GO-BP.tsv\n"
     ]
    }
   ],
   "source": [
    "\n",
    "import os as os\n",
    "import csv as csv\n",
    "\n",
    "import pandas as pd\n",
    "\n",
    "base_root = '/TL/deep-external01/nobackup/pebert/cloudshare/mpiinf/phd/chapter_projects/crossspecies/'\n",
    "\n",
    "input_root = os.path.join(base_root, 'supplement/enrichr')\n",
    "\n",
    "output_root = os.path.join(base_root, 'supplement/supp_tables')\n",
    "\n",
    "for root, dirs, tables in os.walk(input_root):\n",
    "    \n",
    "    if 'hsa' in root:\n",
    "        species = 'human'\n",
    "    else:\n",
    "        species = 'mouse'\n",
    "    for tsv in [f for f in tables if f.endswith('.tsv')]:\n",
    "        df = pd.read_csv(os.path.join(root, tsv), sep='\\t', header=0)\n",
    "        df['Term'] = '\"' + df['Term'] + '\"'\n",
    "        df['Overlap'] = '\"' + df['Overlap'] + '\"'\n",
    "        df.sort_values(['Adjusted P-value', 'Combined Score'], inplace=True,\n",
    "                       ascending=[True, False])\n",
    "        if '_Function_' in tsv:\n",
    "            go_type = 'MF'\n",
    "        else:\n",
    "            go_type = 'BP'\n",
    "        out_path = os.path.join(output_root, 'Add-file-6_enrichR_{}_unaln-genes_GO-{}.tsv'.format(species, go_type))\n",
    "        df.to_csv(out_path, sep='\\t', header=True, index=False, quoting=csv.QUOTE_NONE)\n",
    "        print('Dumped ', out_path)"
   ]
  }
 ],
 "metadata": {
  "kernelspec": {
   "display_name": "Python 3",
   "language": "python",
   "name": "python3"
  },
  "language_info": {
   "codemirror_mode": {
    "name": "ipython",
    "version": 3
   },
   "file_extension": ".py",
   "mimetype": "text/x-python",
   "name": "python",
   "nbconvert_exporter": "python",
   "pygments_lexer": "ipython3",
   "version": "3.5.5"
  }
 },
 "nbformat": 4,
 "nbformat_minor": 2
}
