{
 "cells": [
  {
   "cell_type": "code",
   "execution_count": 1,
   "metadata": {},
   "outputs": [
    {
     "data": {
      "text/html": [
       "<div style='column-count: 2;'><p>Bitstream Vera Sans: <span style='font-family:Bitstream Vera Sans; font-size: 24px;'>Bitstream Vera Sans</p>\n",
       "<p>Bitstream Vera Sans Mono: <span style='font-family:Bitstream Vera Sans Mono; font-size: 24px;'>Bitstream Vera Sans Mono</p>\n",
       "<p>Bitstream Vera Serif: <span style='font-family:Bitstream Vera Serif; font-size: 24px;'>Bitstream Vera Serif</p>\n",
       "<p>DejaVu Sans: <span style='font-family:DejaVu Sans; font-size: 24px;'>DejaVu Sans</p>\n",
       "<p>DejaVu Sans Display: <span style='font-family:DejaVu Sans Display; font-size: 24px;'>DejaVu Sans Display</p>\n",
       "<p>DejaVu Sans Mono: <span style='font-family:DejaVu Sans Mono; font-size: 24px;'>DejaVu Sans Mono</p>\n",
       "<p>DejaVu Serif: <span style='font-family:DejaVu Serif; font-size: 24px;'>DejaVu Serif</p>\n",
       "<p>DejaVu Serif Display: <span style='font-family:DejaVu Serif Display; font-size: 24px;'>DejaVu Serif Display</p>\n",
       "<p>EB Garamond: <span style='font-family:EB Garamond; font-size: 24px;'>EB Garamond</p>\n",
       "<p>EB Garamond 12 All SC: <span style='font-family:EB Garamond 12 All SC; font-size: 24px;'>EB Garamond 12 All SC</p>\n",
       "<p>EB Garamond Initials: <span style='font-family:EB Garamond Initials; font-size: 24px;'>EB Garamond Initials</p>\n",
       "<p>EB Garamond Initials Fill1: <span style='font-family:EB Garamond Initials Fill1; font-size: 24px;'>EB Garamond Initials Fill1</p>\n",
       "<p>EB Garamond Initials Fill2: <span style='font-family:EB Garamond Initials Fill2; font-size: 24px;'>EB Garamond Initials Fill2</p>\n",
       "<p>FreeMono: <span style='font-family:FreeMono; font-size: 24px;'>FreeMono</p>\n",
       "<p>FreeSans: <span style='font-family:FreeSans; font-size: 24px;'>FreeSans</p>\n",
       "<p>FreeSerif: <span style='font-family:FreeSerif; font-size: 24px;'>FreeSerif</p>\n",
       "<p>Lato: <span style='font-family:Lato; font-size: 24px;'>Lato</p>\n",
       "<p>MarVoSym: <span style='font-family:MarVoSym; font-size: 24px;'>MarVoSym</p>\n",
       "<p>STIXGeneral: <span style='font-family:STIXGeneral; font-size: 24px;'>STIXGeneral</p>\n",
       "<p>STIXNonUnicode: <span style='font-family:STIXNonUnicode; font-size: 24px;'>STIXNonUnicode</p>\n",
       "<p>STIXSizeFiveSym: <span style='font-family:STIXSizeFiveSym; font-size: 24px;'>STIXSizeFiveSym</p>\n",
       "<p>STIXSizeFourSym: <span style='font-family:STIXSizeFourSym; font-size: 24px;'>STIXSizeFourSym</p>\n",
       "<p>STIXSizeOneSym: <span style='font-family:STIXSizeOneSym; font-size: 24px;'>STIXSizeOneSym</p>\n",
       "<p>STIXSizeThreeSym: <span style='font-family:STIXSizeThreeSym; font-size: 24px;'>STIXSizeThreeSym</p>\n",
       "<p>STIXSizeTwoSym: <span style='font-family:STIXSizeTwoSym; font-size: 24px;'>STIXSizeTwoSym</p>\n",
       "<p>Source Code Pro: <span style='font-family:Source Code Pro; font-size: 24px;'>Source Code Pro</p>\n",
       "<p>cmb10: <span style='font-family:cmb10; font-size: 24px;'>cmb10</p>\n",
       "<p>cmex10: <span style='font-family:cmex10; font-size: 24px;'>cmex10</p>\n",
       "<p>cmmi10: <span style='font-family:cmmi10; font-size: 24px;'>cmmi10</p>\n",
       "<p>cmr10: <span style='font-family:cmr10; font-size: 24px;'>cmr10</p>\n",
       "<p>cmss10: <span style='font-family:cmss10; font-size: 24px;'>cmss10</p>\n",
       "<p>cmsy10: <span style='font-family:cmsy10; font-size: 24px;'>cmsy10</p>\n",
       "<p>cmtt10: <span style='font-family:cmtt10; font-size: 24px;'>cmtt10</p>\n",
       "<p>esint10: <span style='font-family:esint10; font-size: 24px;'>esint10</p>\n",
       "<p>eufm10: <span style='font-family:eufm10; font-size: 24px;'>eufm10</p>\n",
       "<p>msam10: <span style='font-family:msam10; font-size: 24px;'>msam10</p>\n",
       "<p>msbm10: <span style='font-family:msbm10; font-size: 24px;'>msbm10</p>\n",
       "<p>rsfs10: <span style='font-family:rsfs10; font-size: 24px;'>rsfs10</p>\n",
       "<p>stmary10: <span style='font-family:stmary10; font-size: 24px;'>stmary10</p>\n",
       "<p>wasy10: <span style='font-family:wasy10; font-size: 24px;'>wasy10</p></div>"
      ],
      "text/plain": [
       "<IPython.core.display.HTML object>"
      ]
     },
     "execution_count": 1,
     "metadata": {},
     "output_type": "execute_result"
    }
   ],
   "source": [
    "import matplotlib.font_manager\n",
    "from IPython.core.display import HTML\n",
    "\n",
    "# What is this?\n",
    "# Show samples of readily available system fonts\n",
    "\n",
    "def make_html(fontname):\n",
    "    return \"<p>{font}: <span style='font-family:{font}; font-size: 24px;'>{font}</p>\".format(font=fontname)\n",
    "\n",
    "code = \"\\n\".join([make_html(font) for font in sorted(set([f.name for f in matplotlib.font_manager.fontManager.ttflist]))])\n",
    "\n",
    "HTML(\"<div style='column-count: 2;'>{}</div>\".format(code))"
   ]
  }
 ],
 "metadata": {
  "kernelspec": {
   "display_name": "Python 3",
   "language": "python",
   "name": "python3"
  },
  "language_info": {
   "codemirror_mode": {
    "name": "ipython",
    "version": 3
   },
   "file_extension": ".py",
   "mimetype": "text/x-python",
   "name": "python",
   "nbconvert_exporter": "python",
   "pygments_lexer": "ipython3",
   "version": "3.5.4"
  }
 },
 "nbformat": 4,
 "nbformat_minor": 2
}
